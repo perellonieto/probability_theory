{
 "metadata": {
  "name": "",
  "signature": "sha256:c2c9988ec0323a939f2373f241060364f4731e178605d8174487d6b811343a4c"
 },
 "nbformat": 3,
 "nbformat_minor": 0,
 "worksheets": [
  {
   "cells": [
    {
     "cell_type": "code",
     "collapsed": false,
     "input": [
      "%matplotlib inline\n",
      "import matplotlib.pyplot as plt\n",
      "import matplotlib.cm as cm\n",
      "import numpy as np\n",
      "from mpl_toolkits.mplot3d import Axes3D"
     ],
     "language": "python",
     "metadata": {},
     "outputs": [],
     "prompt_number": 1
    },
    {
     "cell_type": "code",
     "collapsed": false,
     "input": [
      "#Statistical model\n",
      "def get_samples(n):\n",
      "    mu = 5\n",
      "    sigma = 1\n",
      "    return np.random.normal(mu, sigma, n)\n",
      "\n",
      "#Observed data\n",
      "N = 10\n",
      "X = get_samples(N)\n",
      "\n",
      "#Latent variables\n",
      "Z = [1, 2, 3]\n",
      "\n",
      "#Statistical model\n",
      "# Gaussian with mu = 5 and sigma=1"
     ],
     "language": "python",
     "metadata": {},
     "outputs": [],
     "prompt_number": 18
    },
    {
     "cell_type": "code",
     "collapsed": false,
     "input": [
      "plt.hist(X)"
     ],
     "language": "python",
     "metadata": {},
     "outputs": [
      {
       "metadata": {},
       "output_type": "pyout",
       "prompt_number": 19,
       "text": [
        "(array([ 2.,  0.,  2.,  1.,  1.,  1.,  0.,  1.,  0.,  2.]),\n",
        " array([ 3.89274653,  4.20302586,  4.51330519,  4.82358453,  5.13386386,\n",
        "         5.44414319,  5.75442252,  6.06470185,  6.37498118,  6.68526051,\n",
        "         6.99553984]),\n",
        " <a list of 10 Patch objects>)"
       ]
      },
      {
       "metadata": {},
       "output_type": "display_data",
       "png": "[encoded data removed]",
       "text": [
        "<matplotlib.figure.Figure at 0x7f8d69deed90>"
       ]
      }
     ],
     "prompt_number": 19
    },
    {
     "cell_type": "code",
     "collapsed": false,
     "input": [],
     "language": "python",
     "metadata": {},
     "outputs": []
    }
   ],
   "metadata": {}
  }
 ]
}