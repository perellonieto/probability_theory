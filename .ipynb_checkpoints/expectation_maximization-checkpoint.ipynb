{
 "metadata": {
  "name": "",
  "signature": "sha256:0af76c1f7ee4e8d1760a8d05fd26bd62b9eff6d977ff112dc1aaea6ec600de57"
 },
 "nbformat": 3,
 "nbformat_minor": 0,
 "worksheets": [
  {
   "cells": [
    {
     "cell_type": "code",
     "collapsed": false,
     "input": [
      "%matplotlib inline\n",
      "import matplotlib.pyplot as plt\n",
      "import matplotlib.cm as cm\n",
      "import numpy as np\n",
      "from mpl_toolkits.mplot3d import Axes3D"
     ],
     "language": "python",
     "metadata": {},
     "outputs": [],
     "prompt_number": 1
    },
    {
     "cell_type": "code",
     "collapsed": false,
     "input": [
      "#Latent variables\n",
      "Z = [1, 2, 3]\n",
      "#Observed data\n",
      "X = [3, 4, 4, 4, 5, 5, 5, 6, 6, 7]\n",
      "#Statistical model\n",
      "# Gaussian with mu = 5 and sigma=1"
     ],
     "language": "python",
     "metadata": {},
     "outputs": [],
     "prompt_number": 12
    },
    {
     "cell_type": "code",
     "collapsed": false,
     "input": [
      "plt.hist(np.random.normal(5,1,10))"
     ],
     "language": "python",
     "metadata": {},
     "outputs": [
      {
       "metadata": {},
       "output_type": "pyout",
       "prompt_number": 13,
       "text": [
        "(array([ 1.,  1.,  1.,  2.,  0.,  2.,  1.,  1.,  0.,  1.]),\n",
        " array([ 3.68234641,  3.88726389,  4.09218138,  4.29709887,  4.50201635,\n",
        "         4.70693384,  4.91185133,  5.11676881,  5.3216863 ,  5.52660379,\n",
        "         5.73152127]),\n",
        " <a list of 10 Patch objects>)"
       ]
      },
      {
       "metadata": {},
       "output_type": "display_data",
       "png": "[encoded data removed]",
       "text": [
        "<matplotlib.figure.Figure at 0x7f8d6a077510>"
       ]
      }
     ],
     "prompt_number": 13
    },
    {
     "cell_type": "code",
     "collapsed": false,
     "input": [],
     "language": "python",
     "metadata": {},
     "outputs": []
    }
   ],
   "metadata": {}
  }
 ]
}